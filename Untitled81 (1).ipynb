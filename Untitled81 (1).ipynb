{
 "cells": [
  {
   "cell_type": "code",
   "execution_count": null,
   "id": "88767a27",
   "metadata": {},
   "outputs": [],
   "source": [
    "kilometers =float(input('Enter the Kilometers ='))\n",
    "miles = kilometers * 0.621371\n",
    "print('%.2f Kilometers equal %.4f Miles'%(kilometers,miles ))"
   ]
  },
  {
   "cell_type": "code",
   "execution_count": null,
   "id": "e3bff780",
   "metadata": {},
   "outputs": [],
   "source": [
    "celsius_1 = float(input('Temperature value in degree Celsius'))\n",
    "Fahrenheit_1 = (celsius_1 * 1.8) + 32  \n",
    "print('The %.2f degree Celsius is equal to: %.2f Fahrenheit'  \n",
    "      %(celsius_1, Fahrenheit_1))  "
   ]
  },
  {
   "cell_type": "code",
   "execution_count": null,
   "id": "05638876",
   "metadata": {},
   "outputs": [],
   "source": [
    "import calendar\n",
    "year = 2022\n",
    "month = 12\n",
    "print(calendar.month(year, month))"
   ]
  },
  {
   "cell_type": "code",
   "execution_count": null,
   "id": "e3cd33e6",
   "metadata": {},
   "outputs": [],
   "source": [
    "a = float(input('Enter a: '))  \n",
    "b = float(input('Enter b: '))  \n",
    "c = float(input('Enter c: '))  \n",
    "  \n",
    "# calculate the discriminant  \n",
    "d = (b**2) - (4*a*c)  \n",
    "  \n",
    "# find two solutions  \n",
    "sol1 = (-b-cmath.sqrt(d))/(2*a)  \n",
    "sol2 = (-b+cmath.sqrt(d))/(2*a)  \n",
    "print('The solution are {0} and {1}'.format(sol1,sol2))   "
   ]
  },
  {
   "cell_type": "code",
   "execution_count": null,
   "id": "5ed61434",
   "metadata": {},
   "outputs": [],
   "source": [
    "a=int(input(\"Enter value of first variable: \"))\n",
    "b=int(input(\"Enter value of second variable: \"))\n",
    "a=a+b\n",
    "b=a-b\n",
    "a=a-b\n",
    "print(\"a is:\",a,\" b is:\",b)"
   ]
  }
 ],
 "metadata": {
  "kernelspec": {
   "display_name": "Python 3",
   "language": "python",
   "name": "python3"
  },
  "language_info": {
   "codemirror_mode": {
    "name": "ipython",
    "version": 3
   },
   "file_extension": ".py",
   "mimetype": "text/x-python",
   "name": "python",
   "nbconvert_exporter": "python",
   "pygments_lexer": "ipython3",
   "version": "3.8.8"
  }
 },
 "nbformat": 4,
 "nbformat_minor": 5
}
